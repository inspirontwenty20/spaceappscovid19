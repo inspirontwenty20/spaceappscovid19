{
 "cells": [
  {
   "cell_type": "code",
   "execution_count": null,
   "metadata": {},
   "outputs": [],
   "source": [
    "#time_series_covid19_confirmed_US\n",
    "import pandas as pd\n",
    "filename = 'time_series_covid19_confirmed_US.csv'\n",
    "ts_df = pd.read_csv(\"../testingdata/\"+filename)"
   ]
  },
  {
   "cell_type": "code",
   "execution_count": null,
   "metadata": {},
   "outputs": [],
   "source": [
    "print(ts_df.columns) #-columns for dates\n",
    "ts_df.columns[6]\n",
    "selected_data_df = ts_df.iloc[:,6]"
   ]
  },
  {
   "cell_type": "code",
   "execution_count": null,
   "metadata": {},
   "outputs": [],
   "source": []
  },
  {
   "cell_type": "code",
   "execution_count": null,
   "metadata": {},
   "outputs": [],
   "source": [
    "selected_data_df =  ts_df.iloc[:,range(11,125,1)]\n",
    "selected_data_df[\"Province_State\"] = ts_df.iloc[:,6]"
   ]
  },
  {
   "cell_type": "code",
   "execution_count": null,
   "metadata": {},
   "outputs": [],
   "source": [
    "state_grouped_df = selected_data_df.groupby('Province_State').sum()\n",
    "state_grouped_df.head(10)"
   ]
  },
  {
   "cell_type": "code",
   "execution_count": null,
   "metadata": {},
   "outputs": [],
   "source": [
    "selected_data_df.index = selected_data_df['Province_State']\n"
   ]
  },
  {
   "cell_type": "code",
   "execution_count": null,
   "metadata": {},
   "outputs": [],
   "source": [
    "state_grouped_df.to_csv(\"../testingdata/transposed_\"+filename)\n"
   ]
  },
  {
   "cell_type": "code",
   "execution_count": null,
   "metadata": {},
   "outputs": [],
   "source": [
    "state_grouped_df.reset_index(inplace=True)\n",
    "state_grouped_df.columns"
   ]
  },
  {
   "cell_type": "code",
   "execution_count": null,
   "metadata": {},
   "outputs": [],
   "source": [
    "melted_df = state_grouped_df.melt(id_vars=[\"Province_State\"], \n",
    "        var_name=\"Date\", \n",
    "        value_name=\"Value\")"
   ]
  },
  {
   "cell_type": "code",
   "execution_count": null,
   "metadata": {},
   "outputs": [],
   "source": [
    "melted_df.head(4)"
   ]
  },
  {
   "cell_type": "code",
   "execution_count": null,
   "metadata": {},
   "outputs": [],
   "source": [
    "import datetime\n",
    "melted_df['datetime'] = pd.to_datetime(melted_df['Date']) #pd.to_numeric( #.to_datetime(melted_df['Date'])\n"
   ]
  },
  {
   "cell_type": "code",
   "execution_count": null,
   "metadata": {},
   "outputs": [],
   "source": [
    "melted_df['dateonly'] = pd.to_datetime(melted_df['Date']).dt.date\n",
    "melted_df.head(10)\n",
    "#melted_df['datetime'].unique()"
   ]
  },
  {
   "cell_type": "code",
   "execution_count": null,
   "metadata": {},
   "outputs": [],
   "source": [
    "melted_df.to_csv(\"../testingdata/melted_timeseries.csv\",index=False)"
   ]
  },
  {
   "cell_type": "code",
   "execution_count": null,
   "metadata": {},
   "outputs": [],
   "source": [
    "#!pip install matplotlib"
   ]
  },
  {
   "cell_type": "code",
   "execution_count": null,
   "metadata": {},
   "outputs": [],
   "source": [
    "from matplotlib import pyplot\n",
    "\n",
    "melted_df['Value'].plot(style='k.')\n",
    "pyplot.show()"
   ]
  },
  {
   "cell_type": "code",
   "execution_count": null,
   "metadata": {},
   "outputs": [],
   "source": [
    "import pandas as pd\n",
    "import dash\n",
    "#melted_df = pd.read_csv('../testingdata/melted_timeseries.csv')\n",
    "import plotly.express as px\n",
    "import plotly.graph_objects as go\n",
    "\n",
    "#fig = px.line(melted_df,animation_group='Province_State',line_group='Province_State',  x='datetime', y='Value', title='Time Series with Rangeslider')\n",
    "\n",
    "fig = px.scatter(melted_df,animation_group='Province_State',  x='datetime', y='Value', title='Time Series with Rangeslider')\n",
    "\n",
    "fig.update_xaxes(rangeslider_visible=True)\n",
    "fig.show()\n",
    "#print((melted_df['dateonly'][1]))\n",
    "#single_state = melted_df.loc[(melted_df['Province_State']=='Alabama'),:]\n",
    "#single_state.reset_index(inplace=True)\n",
    "#print(single_state.head(-5))\n",
    "#px.scatter(melted_df, x=\"datetime\", y=\"Value\",animation_frame='datetime' , animation_group=\"datetime\",render_mode ='auto',color=\"Province_State\", hover_name=\"Province_State\")\n"
   ]
  },
  {
   "cell_type": "code",
   "execution_count": null,
   "metadata": {},
   "outputs": [],
   "source": [
    "#df = melted_df[melted_df['Value']>0]\n",
    "import plotly.io as pio\n",
    "pio.renderers.default='notebook'\n",
    "fig = px.scatter(melted_df, x=\"Date\", y=\"Value\", size=\"Value\", color=\"Province_State\",animation_frame='Date',animation_group='Province_State',range_y=[0,350000],range_x=[0,145])\n",
    "fig.show()"
   ]
  },
  {
   "cell_type": "code",
   "execution_count": null,
   "metadata": {},
   "outputs": [],
   "source": [
    "#val = melted_df['datetime'].unique()[0]"
   ]
  },
  {
   "cell_type": "code",
   "execution_count": null,
   "metadata": {},
   "outputs": [],
   "source": [
    "\n",
    "import plotly.express as px\n",
    "df = px.data.gapminder()\n",
    "fig = px.scatter(df, x=\"gdpPercap\", y=\"lifeExp\", animation_frame=\"year\", animation_group=\"country\",\n",
    "           size=\"pop\", color=\"continent\", hover_name=\"country\", facet_col=\"continent\",\n",
    "           log_x=True, size_max=45)#, range_x=[100,100000], range_y=[25,90])\n",
    "fig.show()"
   ]
  },
  {
   "cell_type": "code",
   "execution_count": null,
   "metadata": {},
   "outputs": [],
   "source": [
    "type(melted_df.loc[0,'dateonly'])"
   ]
  },
  {
   "cell_type": "code",
   "execution_count": null,
   "metadata": {},
   "outputs": [],
   "source": [
    "df.shape"
   ]
  },
  {
   "cell_type": "code",
   "execution_count": null,
   "metadata": {},
   "outputs": [],
   "source": [
    "len(melted_df['Date'].unique())"
   ]
  },
  {
   "cell_type": "code",
   "execution_count": null,
   "metadata": {},
   "outputs": [],
   "source": []
  }
 ],
 "metadata": {
  "language_info": {
   "codemirror_mode": {
    "name": "ipython",
    "version": 3
   },
   "file_extension": ".py",
   "mimetype": "text/x-python",
   "name": "python",
   "nbconvert_exporter": "python",
   "pygments_lexer": "ipython3",
   "version": "3.6.5-final"
  },
  "orig_nbformat": 2,
  "kernelspec": {
   "name": "python36564bitenvvenv0b56121965b4460bb829bbea138b31c3",
   "display_name": "Python 3.6.5 64-bit ('.env': venv)"
  }
 },
 "nbformat": 4,
 "nbformat_minor": 2
}